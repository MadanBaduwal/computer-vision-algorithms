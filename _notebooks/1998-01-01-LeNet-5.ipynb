{
 "cells": [
  {
   "cell_type": "markdown",
   "id": "1469e3d9",
   "metadata": {},
   "source": [
    "# LeNet-5\n",
    "> LeNet-5 From Scratch.\n",
    "\n",
    "- toc: true \n",
    "- badges: true\n",
    "- comments: true\n",
    "- categories: [Convolutional Neural Networks]\n",
    "- image: images/chart-preview.png"
   ]
  },
  {
   "cell_type": "markdown",
   "id": "2467d26b",
   "metadata": {},
   "source": [
    "# About\n",
    "\n",
    "In this tutorial we will implement LeNet-5 from [official paper](http://yann.lecun.com/exdb/publis/pdf/lecun-98.pdf). We will only use Numpy and OOP. \n",
    "\n",
    "* [Reference](https://github.com/mattwang44/LeNet-from-Scratch/blob/master/LeNet5_train.ipynb)"
   ]
  },
  {
   "cell_type": "markdown",
   "id": "80089e93",
   "metadata": {},
   "source": [
    "## 1. Import Packages,Functions, and Objects"
   ]
  },
  {
   "cell_type": "code",
   "execution_count": 1,
   "id": "e078fc93",
   "metadata": {},
   "outputs": [],
   "source": [
    "import numpy as np\n",
    "import sys\n",
    "import pickle\n",
    "import matplotlib.pyplot as plt\n",
    "import matplotlib.image as mpimg\n",
    "import matplotlib as mpl\n",
    "import time"
   ]
  },
  {
   "cell_type": "code",
   "execution_count": null,
   "id": "d7c6186a",
   "metadata": {},
   "outputs": [],
   "source": []
  }
 ],
 "metadata": {
  "kernelspec": {
   "display_name": "Python 3 (ipykernel)",
   "language": "python",
   "name": "python3"
  },
  "language_info": {
   "codemirror_mode": {
    "name": "ipython",
    "version": 3
   },
   "file_extension": ".py",
   "mimetype": "text/x-python",
   "name": "python",
   "nbconvert_exporter": "python",
   "pygments_lexer": "ipython3",
   "version": "3.10.4"
  }
 },
 "nbformat": 4,
 "nbformat_minor": 5
}
